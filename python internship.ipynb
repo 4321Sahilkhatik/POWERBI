{
 "cells": [
  {
   "cell_type": "markdown",
   "id": "31b985c3-f663-479e-bdbd-fa19369923e0",
   "metadata": {},
   "source": [
    "# level . 1"
   ]
  },
  {
   "cell_type": "code",
   "execution_count": 6,
   "id": "ed76b12a-ad1e-418d-b40a-17122b9c47a7",
   "metadata": {},
   "outputs": [
    {
     "name": "stdout",
     "output_type": "stream",
     "text": [
      "Reversed String: olleh\n"
     ]
    }
   ],
   "source": [
    "# level 1. 1 : String Reversal\n",
    "# Create a Python function that takes a\n",
    "# string as input and returns the reverse of\n",
    "# that string. For example, if the input is\n",
    "# \"hello,\n",
    "# \" the function should return\n",
    "# \"olleh.\n",
    "\n",
    "\n",
    "string = \"hello\"\n",
    "reversed_string = string[::-1]\n",
    "print(\"Reversed String:\", reversed_string)\n"
   ]
  },
  {
   "cell_type": "code",
   "execution_count": 5,
   "id": "610c3ada-4f8c-44f6-9f2c-e2a9a125a6c6",
   "metadata": {},
   "outputs": [
    {
     "name": "stdin",
     "output_type": "stream",
     "text": [
      "C or F:  C\n",
      "Temperature:  23\n"
     ]
    },
    {
     "name": "stdout",
     "output_type": "stream",
     "text": [
      "73.40°F\n"
     ]
    }
   ],
   "source": [
    "# Task 2 : Temperature Conversion\n",
    "# Create a Python program that converts\n",
    "# temperatures between Celsius and\n",
    "# Fahrenheit. Prompt the user to enter a\n",
    "# temperature value and the unit of\n",
    "# measurement, and then display the\n",
    "# converted temperature.\n",
    "\n",
    "unit = input(\"C or F:\")\n",
    "temp = float(input(\"Temperature: \"))\n",
    "\n",
    "if unit == 'C':\n",
    "    print(f\"{(temp * 9/5) + 32:.2f}°F\")\n",
    "elif unit == 'F':\n",
    "    print(f\"{(temp - 32) * 5/9:.2f}°C\")\n",
    "else:\n",
    "    print(\"Invalid input\")\n"
   ]
  },
  {
   "cell_type": "code",
   "execution_count": 7,
   "id": "cf6f7030-5ae3-406f-beba-ddc7fe12b5fd",
   "metadata": {},
   "outputs": [
    {
     "name": "stdin",
     "output_type": "stream",
     "text": [
      "Enter an email address:  sahil@gmail.com\n"
     ]
    },
    {
     "name": "stdout",
     "output_type": "stream",
     "text": [
      "Valid email address.\n"
     ]
    }
   ],
   "source": [
    "#  3  Develop a Python function that validates\n",
    "# whether a given string is a valid email\n",
    "# address. Implement checks for the format,\n",
    "# including the presence of an \"@\" symbol and\n",
    "# a domain name\n",
    "\n",
    "def valid_email(email):\n",
    "    if \"@\" in email and \".\" in email.split(\"@\")[-1]:\n",
    "        return True\n",
    "    else:\n",
    "        return False\n",
    "\n",
    "email = input(\"Enter an email address: \")\n",
    "if valid_email(email):\n",
    "    print(\"Valid email address.\")\n",
    "else:\n",
    "    print(\"Invalid email address.\")"
   ]
  },
  {
   "cell_type": "code",
   "execution_count": 5,
   "id": "172ff713-9108-4540-ada6-f1ef092d0d3d",
   "metadata": {},
   "outputs": [
    {
     "name": "stdin",
     "output_type": "stream",
     "text": [
      "enter first number: 10\n",
      "enter second number: 20\n"
     ]
    },
    {
     "name": "stdout",
     "output_type": "stream",
     "text": [
      "sum is : 30 \n",
      "subtraction: -10 \n",
      "multiplication: 200 \n",
      "division: 0.5 \n",
      "modulus: 10\n"
     ]
    }
   ],
   "source": [
    "# 4  Create a Python program that acts as a basic\n",
    "# calculator. It should prompt the user to\n",
    "# enter two numbers and an operator (+\n",
    "# , -,\n",
    "# *\n",
    "# , /,\n",
    "# %), and then display the result of the\n",
    "# operation.\n",
    "\n",
    "def calculate():\n",
    "    x=int(input(\"enter first number:\"))\n",
    "    y=int(input(\"enter second number:\"))\n",
    "    sum1=x+y\n",
    "    sub=x-y\n",
    "    mult=x*y\n",
    "    div=x/y\n",
    "    mod=x%y\n",
    "    print(\"sum is :\",sum1, \"\\nsubtraction:\",sub, \"\\nmultiplication:\",mult, \"\\ndivision:\",div, \"\\nmodulus:\",mod)\n",
    "obj=calculate()\n",
    "obj\n",
    "\n"
   ]
  },
  {
   "cell_type": "code",
   "execution_count": 9,
   "id": "81bb0b3c-d5b4-42bf-9348-eb20733cfcd1",
   "metadata": {},
   "outputs": [
    {
     "name": "stdin",
     "output_type": "stream",
     "text": [
      "enter a world: mam\n"
     ]
    },
    {
     "name": "stdout",
     "output_type": "stream",
     "text": [
      "palindrome\n"
     ]
    }
   ],
   "source": [
    "#  5  Write a Python function that checks whether\n",
    "# a given string is a palindrome. A palindrome\n",
    "# is a word, phrase, or sequence that reads the\n",
    "# same backward as forward (e.g.,\n",
    "# \"madam\" or\n",
    "# \"racecar\").\n",
    "\n",
    "P = input(\"enter a world:\")\n",
    "if P == P[::-1]:\n",
    "    print(\"palindrome\")\n",
    "else:\n",
    "    print(\"not palindrom\")\n"
   ]
  },
  {
   "cell_type": "code",
   "execution_count": 13,
   "id": "f70a3aa5-e269-4b62-9e03-6ade4ae3cbf3",
   "metadata": {},
   "outputs": [
    {
     "name": "stdin",
     "output_type": "stream",
     "text": [
      "Guess the number (1-100):  50\n"
     ]
    },
    {
     "name": "stdout",
     "output_type": "stream",
     "text": [
      "Too low! Try again.\n"
     ]
    },
    {
     "name": "stdin",
     "output_type": "stream",
     "text": [
      "Guess the number (1-100):  80\n"
     ]
    },
    {
     "name": "stdout",
     "output_type": "stream",
     "text": [
      "Too high! Try again.\n"
     ]
    },
    {
     "name": "stdin",
     "output_type": "stream",
     "text": [
      "Guess the number (1-100):  60\n"
     ]
    },
    {
     "name": "stdout",
     "output_type": "stream",
     "text": [
      "Too high! Try again.\n"
     ]
    },
    {
     "name": "stdin",
     "output_type": "stream",
     "text": [
      "Guess the number (1-100):  55\n"
     ]
    },
    {
     "name": "stdout",
     "output_type": "stream",
     "text": [
      "Too high! Try again.\n"
     ]
    },
    {
     "name": "stdin",
     "output_type": "stream",
     "text": [
      "Guess the number (1-100):  51\n"
     ]
    },
    {
     "name": "stdout",
     "output_type": "stream",
     "text": [
      "Too low! Try again.\n"
     ]
    },
    {
     "name": "stdin",
     "output_type": "stream",
     "text": [
      "Guess the number (1-100):  53\n"
     ]
    },
    {
     "name": "stdout",
     "output_type": "stream",
     "text": [
      "Congratulations! You guessed it right.\n"
     ]
    }
   ],
   "source": [
    "# level 2. 1  Write a Python program that generates a\n",
    "# random number between 1 and 100. The\n",
    "# user should then try to guess the number.\n",
    "# The program should provide hints such as\n",
    "# \"too high\" or \"too low\" until the correct\n",
    "# number is guessed\n",
    "\n",
    "import random\n",
    "\n",
    "number = random.randint(1, 100)\n",
    "\n",
    "while True:\n",
    "    guess = int(input(\"Guess the number (1-100): \"))\n",
    "    \n",
    "    if guess < number:\n",
    "        print(\"Too low! Try again.\")\n",
    "    elif guess > number:\n",
    "        print(\"Too high! Try again.\")\n",
    "    else:\n",
    "        print(\"Congratulations! You guessed it right.\")\n",
    "        break\n"
   ]
  },
  {
   "cell_type": "code",
   "execution_count": null,
   "id": "2fc14d7c-cc20-46bd-b08a-bc9766705d31",
   "metadata": {},
   "outputs": [],
   "source": []
  },
  {
   "cell_type": "code",
   "execution_count": 16,
   "id": "4de2c937-392c-4d34-9182-88b6cbc9a84b",
   "metadata": {},
   "outputs": [
    {
     "name": "stdin",
     "output_type": "stream",
     "text": [
      "Enter the lower limit:  1\n",
      "Enter the upper limit:  10\n",
      "Guess a number between 1 and 10:  9\n"
     ]
    },
    {
     "name": "stdout",
     "output_type": "stream",
     "text": [
      "Too high! Try again.\n"
     ]
    },
    {
     "name": "stdin",
     "output_type": "stream",
     "text": [
      "Guess a number between 1 and 10:  5\n"
     ]
    },
    {
     "name": "stdout",
     "output_type": "stream",
     "text": [
      "Too high! Try again.\n"
     ]
    },
    {
     "name": "stdin",
     "output_type": "stream",
     "text": [
      "Guess a number between 1 and 10:  4\n"
     ]
    },
    {
     "name": "stdout",
     "output_type": "stream",
     "text": [
      "Too high! Try again.\n"
     ]
    },
    {
     "name": "stdin",
     "output_type": "stream",
     "text": [
      "Guess a number between 1 and 10:  3\n"
     ]
    },
    {
     "name": "stdout",
     "output_type": "stream",
     "text": [
      "Too high! Try again.\n"
     ]
    },
    {
     "name": "stdin",
     "output_type": "stream",
     "text": [
      "Guess a number between 1 and 10:  2\n"
     ]
    },
    {
     "name": "stdout",
     "output_type": "stream",
     "text": [
      "Too high! Try again.\n"
     ]
    },
    {
     "name": "stdin",
     "output_type": "stream",
     "text": [
      "Guess a number between 1 and 10:  1\n"
     ]
    },
    {
     "name": "stdout",
     "output_type": "stream",
     "text": [
      "Congratulations! You guessed it right.\n"
     ]
    }
   ],
   "source": [
    "# 2  Create a number guessing game where the\n",
    "# program generates a random number\n",
    "# between a specified range, and the user tries\n",
    "# to guess it. Provide feedback to the user if\n",
    "# their guess is too high or too low.\n",
    "\n",
    "\n",
    "import random\n",
    "\n",
    "low = int(input(\"Enter the lower limit: \"))\n",
    "high = int(input(\"Enter the upper limit: \"))\n",
    "\n",
    "number = random.choice(range(low, high))\n",
    "\n",
    "while True:\n",
    "    guess = int(input(f\"Guess a number between {low} and {high}: \"))\n",
    "    \n",
    "    if guess < number:\n",
    "        print(\"Too low! Try again.\")\n",
    "    elif guess > number:\n",
    "        print(\"Too high! Try again.\")\n",
    "    else:\n",
    "        print(\"Congratulations! You guessed it right.\")\n",
    "        break\n"
   ]
  },
  {
   "cell_type": "code",
   "execution_count": null,
   "id": "8e44eae5-6da8-4e4c-bcf3-7d2f80044850",
   "metadata": {},
   "outputs": [],
   "source": []
  },
  {
   "cell_type": "code",
   "execution_count": 5,
   "id": "f29fc20e-aae4-46dd-bd7f-f98c87cd85f9",
   "metadata": {},
   "outputs": [
    {
     "name": "stdin",
     "output_type": "stream",
     "text": [
      "Enter your password:  sahil12@\n"
     ]
    },
    {
     "name": "stdout",
     "output_type": "stream",
     "text": [
      "Weak Password \n"
     ]
    }
   ],
   "source": [
    "# 3  Create a Python function that evaluates\n",
    "# the strength of a password entered by the\n",
    "# user. Implement checks for factors such as\n",
    "# length, presence of uppercase and\n",
    "# lowercase letters, digits, and special\n",
    "# characters.\n",
    "\n",
    "import re\n",
    "\n",
    "def check_password(password):\n",
    "    if (len(password) >= 8 and\n",
    "        re.search(r\"[A-Z]\", password) and\n",
    "        re.search(r\"[a-z]\", password) and\n",
    "        re.search(r\"[!@#$%^&*()_+<>?]\", password)):\n",
    "        return \"Strong Password \"\n",
    "    else:\n",
    "        return \"Weak Password \"\n",
    "\n",
    "password = input(\"Enter your password: \")\n",
    "print(check_password(password))\n"
   ]
  },
  {
   "cell_type": "code",
   "execution_count": 7,
   "id": "46ad41de-7e74-449d-a2b8-1d095a71fe38",
   "metadata": {},
   "outputs": [
    {
     "name": "stdin",
     "output_type": "stream",
     "text": [
      "Enter terms:  10\n"
     ]
    },
    {
     "name": "stdout",
     "output_type": "stream",
     "text": [
      "0 1 1 2 3 5 8 13 21 34 "
     ]
    }
   ],
   "source": [
    "# 4  Write a Python function that generates the\n",
    "# Fibonacci sequence up to a given number of\n",
    "# terms. The function should take an integer\n",
    "# input from the user and display the\n",
    "# Fibonacci sequence up to that number of\n",
    "# terms.\n",
    "\n",
    "\n",
    "def fibonacci(n):\n",
    "    a, b = 0, 1  \n",
    "    while n > 0: \n",
    "        print(a, end=\" \")  \n",
    "        a, b = b, a + b  \n",
    "        n -= 1  \n",
    "\n",
    "fibonacci(int(input(\"Enter terms: \")))\n"
   ]
  },
  {
   "cell_type": "code",
   "execution_count": null,
   "id": "7fd0a60b-5dfc-4e4a-b080-f0810e793649",
   "metadata": {},
   "outputs": [],
   "source": []
  },
  {
   "cell_type": "code",
   "execution_count": 4,
   "id": "96066090-435b-483f-a40b-5f0b07cc8330",
   "metadata": {},
   "outputs": [
    {
     "name": "stdin",
     "output_type": "stream",
     "text": [
      "Enter filename:  sample.txt\n"
     ]
    },
    {
     "name": "stdout",
     "output_type": "stream",
     "text": [
      "!: 1\n",
      ".: 1\n",
      "hello: 2\n",
      "is: 3\n",
      "ji: 2\n",
      "my: 1\n",
      "name: 1\n",
      "python: 1\n",
      "sahil: 1\n",
      "this: 2\n"
     ]
    }
   ],
   "source": [
    "# 5  Write a Python program that reads a text\n",
    "# file and counts the occurrences of each\n",
    "# word in the file. Display the results in\n",
    "# alphabetical order along with their\n",
    "# respective counts.\n",
    "\n",
    "filename = input(\"Enter filename: \")\n",
    "\n",
    "with open(filename, \"r\", encoding=\"utf-8\") as file:\n",
    "    words = file.read().lower().split()  \n",
    "\n",
    "counts = {word: words.count(word) for word in set(words)}  \n",
    "\n",
    "for word in sorted(counts): \n",
    "    print(f\"{word}: {counts[word]}\")\n"
   ]
  },
  {
   "cell_type": "code",
   "execution_count": null,
   "id": "167c59a6-bce3-41cc-b81f-f83cc8c6a5d1",
   "metadata": {},
   "outputs": [],
   "source": []
  },
  {
   "cell_type": "code",
   "execution_count": 6,
   "id": "f38c39d9-700f-4025-a677-ac4aaa135d97",
   "metadata": {},
   "outputs": [
    {
     "name": "stdin",
     "output_type": "stream",
     "text": [
      "Enter website URL:  https://github.com\n"
     ]
    },
    {
     "name": "stdout",
     "output_type": "stream",
     "text": [
      "Navigation Menu\n",
      "Use saved searches to filter your results more quickly\n",
      "GitHub features\n",
      "GitHub is used by\n",
      "Accelerate performance\n",
      "Built-in application securitywhere found means fixed\n",
      "Work together, achieve more\n",
      "From startups to enterprises,GitHub scaleswith teams of any size in any industry.\n",
      "Millions of developers and businesses call GitHub home\n",
      "Footnotes\n",
      "Site-wide Links\n"
     ]
    }
   ],
   "source": [
    "# level 3. 1  Develop a web scraper that extracts\n",
    "# specific data from websites using libraries\n",
    "# like BeautifulSoup or Scrapy. This task will\n",
    "# improve their knowledge of web scraping\n",
    "# techniques and handling HTML/XML data.\n",
    "\n",
    "\n",
    "import requests\n",
    "from bs4 import BeautifulSoup\n",
    "\n",
    "url = input(\"Enter website URL: \") \n",
    "page = requests.get(url)\n",
    "soup = BeautifulSoup(page.text, \"html.parser\")\n",
    "\n",
    "for title in soup.find_all(\"h2\"):  \n",
    "    print(title.get_text(strip=True))\n"
   ]
  },
  {
   "cell_type": "code",
   "execution_count": null,
   "id": "5e1e02f6-8824-4523-aa0a-92d8a2386d60",
   "metadata": {},
   "outputs": [],
   "source": []
  },
  {
   "cell_type": "code",
   "execution_count": null,
   "id": "3939bb15-fab9-4305-8096-fcee33d8b0c7",
   "metadata": {},
   "outputs": [],
   "source": []
  }
 ],
 "metadata": {
  "kernelspec": {
   "display_name": "Python 3 (ipykernel)",
   "language": "python",
   "name": "python3"
  },
  "language_info": {
   "codemirror_mode": {
    "name": "ipython",
    "version": 3
   },
   "file_extension": ".py",
   "mimetype": "text/x-python",
   "name": "python",
   "nbconvert_exporter": "python",
   "pygments_lexer": "ipython3",
   "version": "3.13.0"
  },
  "widgets": {
   "application/vnd.jupyter.widget-state+json": {
    "state": {},
    "version_major": 2,
    "version_minor": 0
   }
  }
 },
 "nbformat": 4,
 "nbformat_minor": 5
}

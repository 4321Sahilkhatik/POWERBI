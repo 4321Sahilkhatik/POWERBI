{
 "cells": [
  {
   "cell_type": "code",
   "execution_count": 1,
   "id": "2385154a-a88c-49e9-a08d-2fcb2fdd1f1f",
   "metadata": {},
   "outputs": [
    {
     "name": "stdout",
     "output_type": "stream",
     "text": [
      "Wellcome to PYTHON Restaurant\n",
      " piza: Rs40\n",
      " pasta: Rs50\n",
      " burger: Rs60\n",
      " salad: Rs70\n",
      " coffee: Rs80\n"
     ]
    },
    {
     "name": "stdin",
     "output_type": "stream",
     "text": [
      "enter the name of item you want to order =  piza\n"
     ]
    },
    {
     "name": "stdout",
     "output_type": "stream",
     "text": [
      "your item piza has been added to your order\n"
     ]
    },
    {
     "name": "stdin",
     "output_type": "stream",
     "text": [
      "do you want to add another item ? (yes / no)  yes\n",
      "enter the name of second item = salad\n"
     ]
    },
    {
     "name": "stdout",
     "output_type": "stream",
     "text": [
      "item salad has been added to order\n",
      "the total amount of items is 110\n"
     ]
    }
   ],
   "source": [
    "# define the manue of restaurant \n",
    "\n",
    "menu={\n",
    "    \"piza\":40,\n",
    "    \"pasta\":50,\n",
    "    \"burger\":60,\n",
    "    \"salad\":70,\n",
    "    \"coffee\":80,   \n",
    "}\n",
    "\n",
    "# greet\n",
    "\n",
    "print(\"Wellcome to PYTHON Restaurant\")\n",
    "print(\" piza: Rs40\\n pasta: Rs50\\n burger: Rs60\\n salad: Rs70\\n coffee: Rs80\")\n",
    "\n",
    "order_total = 0\n",
    "\n",
    "#80 + 70 =150 \n",
    "\n",
    "item_1 = input(\"enter the name of item you want to order = \")\n",
    "\n",
    "if item_1 in menu:\n",
    "    order_total += menu[item_1]                               # 0 + 50\n",
    "    print(f\"your item {item_1} has been added to your order\")\n",
    "\n",
    "else:\n",
    "    print(f\"order item {item_1} is not avaialable yet!\")\n",
    "\n",
    "another_order = input(\"do you want to add another item ? (yes / no) \")\n",
    "\n",
    "if another_order == \"yes\":\n",
    "    item_2 = input(\"enter the name of second item =\")\n",
    "    \n",
    "    if item_2 in menu:\n",
    "        order_total += menu[item_2]\n",
    "        print(f\"item {item_2} has been added to order\")\n",
    "        \n",
    "    else:\n",
    "        print(f\"ordered{item_2} is not available!\")\n",
    "\n",
    "print(f\"the total amount of items is {order_total}\")"
   ]
  },
  {
   "cell_type": "code",
   "execution_count": null,
   "id": "beaf8db2-63bb-4832-850a-79d16c80c860",
   "metadata": {},
   "outputs": [],
   "source": []
  }
 ],
 "metadata": {
  "kernelspec": {
   "display_name": "Python 3 (ipykernel)",
   "language": "python",
   "name": "python3"
  },
  "language_info": {
   "codemirror_mode": {
    "name": "ipython",
    "version": 3
   },
   "file_extension": ".py",
   "mimetype": "text/x-python",
   "name": "python",
   "nbconvert_exporter": "python",
   "pygments_lexer": "ipython3",
   "version": "3.13.0"
  },
  "widgets": {
   "application/vnd.jupyter.widget-state+json": {
    "state": {},
    "version_major": 2,
    "version_minor": 0
   }
  }
 },
 "nbformat": 4,
 "nbformat_minor": 5
}
